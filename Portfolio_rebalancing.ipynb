{
 "cells": [
  {
   "cell_type": "code",
   "execution_count": 58,
   "metadata": {},
   "outputs": [],
   "source": [
    "import pandas as pd\n",
    "import pandas_datareader.data as pdr\n",
    "import datetime\n",
    "import copy\n",
    "import matplotlib.pyplot as plt\n",
    "import yahoofinance as yf"
   ]
  },
  {
   "cell_type": "code",
   "execution_count": 59,
   "metadata": {},
   "outputs": [],
   "source": [
    "ticker=\"^GSPC\"\n",
    "SnP=pdr.get_data_yahoo(ticker,datetime.date.today()-datetime.timedelta(1825),datetime.date.today())"
   ]
  },
  {
   "cell_type": "code",
   "execution_count": 48,
   "metadata": {},
   "outputs": [],
   "source": [
    "def CAGR(DF):\n",
    "    df = DF.copy()\n",
    "    df[\"cumulative_return\"]=(1+df[\"mon_ret\"]).cumprod()\n",
    "    n=len(df)/12   #Applying CAGR\n",
    "    CAGR = (df[\"cumulative_return\"].tolist[-1])**(1/n)-1\n",
    "    return CAGR"
   ]
  },
  {
   "cell_type": "code",
   "execution_count": 49,
   "metadata": {},
   "outputs": [],
   "source": [
    "def volatility(DF):\n",
    "    df=DF.copy()\n",
    "    vol=df[\"return\"].std()*np.sqrt(12)\n",
    "    return volatility"
   ]
  },
  {
   "cell_type": "code",
   "execution_count": 50,
   "metadata": {},
   "outputs": [],
   "source": [
    "def sharpe(DF,Risk_free_rate):\n",
    "    df=DF.copy()\n",
    "    sr=(CAGR(df)-Risk_free_rate)/volatility(df)\n",
    "    return sharpe"
   ]
  },
  {
   "cell_type": "code",
   "execution_count": 51,
   "metadata": {},
   "outputs": [],
   "source": [
    "def max_dd(DF):\n",
    "    df=DF.copy()\n",
    "    df[\"cum_return\"]=(1+df[\"return\"]).cumprod()\n",
    "    df[\"cum_roll_max\"]=df[\"cum_return\"].cummax()\n",
    "    df[\"drawdown\"]=df[\"cum_roll_max\"]-df[\"cum_return\"]\n",
    "    max_dd=(df[\"drawdown\"]/df[\"cum_roll_max\"]).max()\n",
    "    return max_dd"
   ]
  },
  {
   "cell_type": "code",
   "execution_count": null,
   "metadata": {},
   "outputs": [],
   "source": []
  },
  {
   "cell_type": "code",
   "execution_count": null,
   "metadata": {},
   "outputs": [],
   "source": [
    "#DJI Constituent stocks"
   ]
  },
  {
   "cell_type": "code",
   "execution_count": 37,
   "metadata": {},
   "outputs": [],
   "source": [
    "tickers=[\"MMM\",\"AXP\",\"AMGN\",\"AAPL\",\"BA\",\"CAT\",\"CVX\",\"CSCO\",\"KO\",\"GS\",\"HD\",\"HON\",\"INTC\",\"IBM\",\"JNJ\",\"JPM\",\"MCD\",\"MRK\",\"MSFT\",\"NKE\",\"PG\",\"CRM\",\"TRV\",\"UNH\",\"VZ\",\"V\",\"WBA\",\"WMT\",\"DIS\"]"
   ]
  },
  {
   "cell_type": "code",
   "execution_count": 38,
   "metadata": {},
   "outputs": [],
   "source": [
    "ohlc_mon={} #directory"
   ]
  },
  {
   "cell_type": "code",
   "execution_count": 39,
   "metadata": {},
   "outputs": [],
   "source": [
    "attempt = 0 #passthrough variable"
   ]
  },
  {
   "cell_type": "code",
   "execution_count": 40,
   "metadata": {},
   "outputs": [],
   "source": [
    "drop=[] #list initialization"
   ]
  },
  {
   "cell_type": "code",
   "execution_count": null,
   "metadata": {},
   "outputs": [],
   "source": [
    "while len(tickers) != 0 and attempt <= 5:\n",
    "    tickers = [j for j in tickers if j not in drop] # remove stocks after data extraction\n",
    "    for i in range(len(tickers)):\n",
    "        try:\n",
    "            ohlc_mpn[tickers[i]]=pdr.get_data_yahoo(tickers[i],datetime.date.today().datetime.timedelta)\n",
    "            ohlc_mon[tickers[i]].dropna(inplace=True)\n",
    "            drop.append(tickers[i])\n",
    "        except:\n",
    "            print(tickers[i],\";failed to fetch data...retrying\")\n",
    "            continue\n",
    "        attempt+=1\n",
    "tickers = ohlc_mon.keys()"
   ]
  },
  {
   "cell_type": "code",
   "execution_count": 42,
   "metadata": {},
   "outputs": [],
   "source": [
    "ohlc_dict=copy.deepcopy(ohlc_mon)"
   ]
  },
  {
   "cell_type": "code",
   "execution_count": 43,
   "metadata": {},
   "outputs": [],
   "source": [
    "return_df=pd.DataFrame()"
   ]
  },
  {
   "cell_type": "code",
   "execution_count": null,
   "metadata": {},
   "outputs": [],
   "source": [
    "for ticker in tickers:\n",
    "    print(\"calculating monthly return for\",ticker)\n",
    "    ohlc_dict[ticker][\"mon_ret\"]=ohlc_dict[ticker][\"Adj Close\"].pct_change()\n",
    "    return_df[ticker]=ohlc_dict[ticker][\"mon_ret\"]"
   ]
  },
  {
   "cell_type": "code",
   "execution_count": 53,
   "metadata": {},
   "outputs": [],
   "source": [
    "DF=return_df\n",
    "n=6\n",
    "x=3\n",
    "portfolio=[\"MMM\",\"AXP\",\"AMGN\",\"AAPL\",\"BA\",\"CAT\"]"
   ]
  },
  {
   "cell_type": "code",
   "execution_count": 55,
   "metadata": {},
   "outputs": [],
   "source": [
    "DF=return_df\n",
    "n=6\n",
    "x=3\n",
    "def pflio(DF,n,x):\n",
    "    #Returns cumulative portfolio return\n",
    "    #DF = Dataframe with monthly return info for all stocks\n",
    "    #n = number of stock in the portfolio\n",
    "    #x = number of underperforming stocks to be removed from portfolio monthly\n",
    "    df=DF.copy()\n",
    "    portfolio=[]\n",
    "    monthly_ret=[0]\n",
    "    for i in range(1,len(df)):\n",
    "        if len(portfolio)>0:\n",
    "            monthly_ret.append(df[portfolio].iloc[i,:].mean())\n",
    "            bad_stocks=df[portfolio].iloc[i,:].sort_values(ascending=True)[:x].index.values.tolist()\n",
    "            portfolio=[t for t in portfolio if t not in bad_stocks]\n",
    "        fill = m - len(portfolio)\n",
    "        new_picks=df[[t for t in tickers if t not in portfolio]].iloc[i,:].sort_values(ascending=False)[:fill].index.values.tolist()\n",
    "        portfolio=portfolio+new_picks\n",
    "        print(portfolio)\n",
    "    monthly_ret_df=pd.DataFrame(np.array(monthly_ret),columns=[\"mon_ret\"])\n",
    "    return monthly_ret_df"
   ]
  },
  {
   "cell_type": "code",
   "execution_count": null,
   "metadata": {},
   "outputs": [],
   "source": [
    "CAGR(pflio(return_df,6,3))"
   ]
  },
  {
   "cell_type": "code",
   "execution_count": null,
   "metadata": {},
   "outputs": [],
   "source": [
    "sharpe(pflio(return_df,6,3),0.025)"
   ]
  },
  {
   "cell_type": "code",
   "execution_count": null,
   "metadata": {},
   "outputs": [],
   "source": [
    "max_dd(pflio(return_df,6,3))"
   ]
  },
  {
   "cell_type": "code",
   "execution_count": null,
   "metadata": {},
   "outputs": [],
   "source": [
    "DJI=pdr.get_data_yahoo(\"^DJI\",datetime.date.today().datetime.timedelta(1900),datetime.date.today())"
   ]
  },
  {
   "cell_type": "code",
   "execution_count": null,
   "metadata": {},
   "outputs": [],
   "source": [
    "DJI[\"mon_ret\"=DJI[\"Adj Close\"].pct_change()"
   ]
  },
  {
   "cell_type": "code",
   "execution_count": null,
   "metadata": {},
   "outputs": [],
   "source": [
    "CAGR(DJI)"
   ]
  },
  {
   "cell_type": "code",
   "execution_count": null,
   "metadata": {},
   "outputs": [],
   "source": [
    "sharpe(DJI,0.025)"
   ]
  },
  {
   "cell_type": "code",
   "execution_count": null,
   "metadata": {},
   "outputs": [],
   "source": [
    "max_dd(DJI)"
   ]
  },
  {
   "cell_type": "code",
   "execution_count": null,
   "metadata": {},
   "outputs": [],
   "source": [
    "fig,ax=plt.subplots()\n",
    "plt.plot((1+pflio(return_df,6,3)).cumprod())\n",
    "plt.plot((1+DJI[\"mon_ret\"][2:].reset_index(drop=True)).cumprod())\n",
    "plt.title(\"Index Return vs Strategy Return\")\n",
    "plt.ylabel(\"cumulative return\")\n",
    "plt.xlabel(\"months\")\n",
    "ax.legend([\"Strategy Return\",\"Index Return\"])"
   ]
  }
 ],
 "metadata": {
  "kernelspec": {
   "display_name": "Python 3",
   "language": "python",
   "name": "python3"
  },
  "language_info": {
   "codemirror_mode": {
    "name": "ipython",
    "version": 3
   },
   "file_extension": ".py",
   "mimetype": "text/x-python",
   "name": "python",
   "nbconvert_exporter": "python",
   "pygments_lexer": "ipython3",
   "version": "3.8.8"
  }
 },
 "nbformat": 4,
 "nbformat_minor": 4
}
