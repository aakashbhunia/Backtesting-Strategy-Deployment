{
 "cells": [
  {
   "cell_type": "code",
   "execution_count": 14,
   "id": "1d546a8b-8ffe-49e2-be33-414f9b462189",
   "metadata": {},
   "outputs": [],
   "source": [
    "import numpy as np\n",
    "import pandas as pd\n",
    "from alpha_vantage.timeseries import TimeSeries\n",
    "import copy \n",
    "import time\n",
    "ts=TimeSeries(key='P9S7LN6VJ43Q6GAL',output_format='pandas')"
   ]
  },
  {
   "cell_type": "code",
   "execution_count": 4,
   "id": "1fcad566-e036-400a-8f02-7fe2c70a79c5",
   "metadata": {},
   "outputs": [],
   "source": [
    "def ATR(DF,n=14):\n",
    "    df=DF.copy()\n",
    "    df[\"H-L\"] = df[\"High\"]-df[\"Low\"]\n",
    "    df[\"H-PC\"] = df[\"High\"] - df[\"Adj Close\"].shift(1)\n",
    "    df[\"L-PC\"] = df[\"Low\"] - df[\"Adj Close\"].shift(1)\n",
    "    df[\"TR\"] = df[[\"H-L\",\"H-PC\",\"L-PC\"]].max(axis=1,skipna=False)\n",
    "    df[\"ATR\"]=df[\"TR\"].ewm(com=n,min_periods=n).mean() #com gets you close to yahoo and span gets you close to traderview\n",
    "    \n",
    "    df2=df.drop(['H-L','H-PC','L-PC'],axis=1)\n",
    "    return df2[\"ATR\"]"
   ]
  },
  {
   "cell_type": "code",
   "execution_count": 11,
   "id": "433e6e17-5878-48af-9481-a4d09c219107",
   "metadata": {},
   "outputs": [],
   "source": [
    "def CAGR(DF):\n",
    "    df = DF.copy()\n",
    "    df[\"return\"]=df[\"Adj Close\"].pct_change()\n",
    "    df[\"cumulative_return\"]=(1+df[\"return\"]).cumprod()\n",
    "    n=len(df)/(252*78)   #Applying CAGR\n",
    "    CAGR = (df[\"cumulative_return\"].tolist()[-1])**(1/n)-1\n",
    "    return CAGR"
   ]
  },
  {
   "cell_type": "code",
   "execution_count": 6,
   "id": "90b60c05-d1d7-4746-b47a-383877fc1832",
   "metadata": {},
   "outputs": [],
   "source": [
    "def sharpe(DF,rf):\n",
    "    df=DF.copy()\n",
    "    sr=(CAGR(df)-Risk_free_rate)/volatility(df)\n",
    "    return sr"
   ]
  },
  {
   "cell_type": "code",
   "execution_count": 10,
   "id": "7d69e104-eaa9-433a-a7ca-3d17cf43620d",
   "metadata": {},
   "outputs": [],
   "source": [
    "def max_dd(DF):\n",
    "    df=DF.copy()\n",
    "    df[\"cum_return\"]=(1+df[\"return\"]).cumprod()\n",
    "    df[\"cum_roll_max\"]=df[\"cum_return\"].cummax()\n",
    "    df[\"drawdown\"]=df[\"cum_roll_max\"]-df[\"cum_return\"]\n",
    "    max_dd=(df[\"drawdown\"]/df[\"cum_roll_max\"]).max()\n",
    "    return max_dd"
   ]
  },
  {
   "cell_type": "code",
   "execution_count": 12,
   "id": "5fbdc405-4e65-49fc-93c2-79785fbedf0d",
   "metadata": {},
   "outputs": [],
   "source": [
    "#Choose any tickers you want to test your backtesting on"
   ]
  },
  {
   "cell_type": "code",
   "execution_count": 13,
   "id": "9fd4cd15-07e3-408a-b03e-1ec8f4c0ed1a",
   "metadata": {},
   "outputs": [],
   "source": [
    "tickers=[\"MSFT\",\"AAPL\",\"FB\",\"AMZN\",\"INTC\",\"CSCO\",\"VZ\",\"IBM\",\"TSLA\",\"AMD\"]"
   ]
  },
  {
   "cell_type": "code",
   "execution_count": 18,
   "id": "61169cec-529c-49fa-b9fb-abcc2c0bab63",
   "metadata": {},
   "outputs": [],
   "source": [
    "ohlc_intraday={}\n",
    "api_call_count=1\n",
    "ts=TimeSeries(key='P9S7LN6VJ43Q6GAL',output_format='pandas')\n",
    "start_time=time.time()\n",
    "for ticker in tickers:\n",
    "    data=ts.get_intraday(symbol=ticker,interval='5min',outputsize='full')[0]\n",
    "    api_call_count+=1\n",
    "    data.columns=['Open','High','Low','Close','Volume']\n",
    "    data = data.iloc[::-1] #unreverses reversed data given by alphavantage\n",
    "    data=data.between_time('09:35','16:00')\n",
    "    ohlc_intraday[ticker]=data\n",
    "    if api_call_count==5:\n",
    "                  api_call_count=1\n",
    "                  time.sleep(60-((time.time()-start_time)%60.0))\n",
    "tickers=ohlc_intraday.keys()"
   ]
  },
  {
   "cell_type": "code",
   "execution_count": null,
   "id": "792b17bc-2db4-421f-84f8-27f25d64fb94",
   "metadata": {},
   "outputs": [],
   "source": [
    "#Data consolidation\n",
    "ohlc_dict=copy.deepcopy(ohlc_intraday)\n",
    "tickers_signal={}\n",
    "ticker_ret={}\n",
    "for ticker in tickers:\n",
    "    print(\"calculating ATR and rolling max price for\",ticker)\n",
    "    ohlc_dict[ticker][\"ATR\"]=ATR(ohlc_dict[ticker],20)\n",
    "    ohlc_dict[ticker][\"roll_max_cp\"]=ohlc_dict[ticker][\"High\"].rolling(20).max()\n",
    "    ohlc_dict[ticker][\"roll_min_cp\"]=ohlc_dict[ticker][\"Low\"].rolling(20).min()\n",
    "    ohlc_dict[ticker][\"roll_max_vol\"]=ohlc_dict[ticker][\"Volume\"].rolling(20).max()\n",
    "    ohlc_dict[ticker].dropna(inplace=True)\n",
    "    tickers_signal[ticker]= \"\"\n",
    "    tickers_ret[ticker]=[]"
   ]
  },
  {
   "cell_type": "code",
   "execution_count": null,
   "id": "795eb758-eb5c-4004-8132-bee5fec6a8b6",
   "metadata": {},
   "outputs": [],
   "source": [
    "for ticker in tickers:\n",
    "    print(\"calculating returns for\",ticker)\n",
    "    for i in range(len(ohlc_dict[ticker])):\n",
    "        if tickers_signal[ticker]==\"\":\n",
    "            tickers_ret[ticker].append(0)\n",
    "            if ohlc_dict[ticker][\"High\"][i]>=ohlc_dict[ticker][\"roll_max_cp\"][i] and \\\n",
    "               ohlc_dict[ticker][\"Volume\"][i]>1.5*ohlc_dict[ticker][\"roll_max_vol\"][i-1]:\n",
    "                tickers_signal[ticker]=\"Buy\"\n",
    "            elif ohlc_dict[ticker][\"Low\"][i]<=ohlc_dict[ticker][\"roll_min_cp\"][i] and \\\n",
    "              ohlc_dict[ticker][\"Volume\"][i]>1.5*ohlc_dict[ticker][\"roll_max_vol\"][i-1]:\n",
    "                tickers_signal[ticker]=\"Sell\""
   ]
  }
 ],
 "metadata": {
  "kernelspec": {
   "display_name": "Python 3 (ipykernel)",
   "language": "python",
   "name": "python3"
  },
  "language_info": {
   "codemirror_mode": {
    "name": "ipython",
    "version": 3
   },
   "file_extension": ".py",
   "mimetype": "text/x-python",
   "name": "python",
   "nbconvert_exporter": "python",
   "pygments_lexer": "ipython3",
   "version": "3.9.7"
  }
 },
 "nbformat": 4,
 "nbformat_minor": 5
}
